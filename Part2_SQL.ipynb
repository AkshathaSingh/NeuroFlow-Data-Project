{
 "cells": [
  {
   "cell_type": "markdown",
   "metadata": {},
   "source": [
    "### Part 2: SQL\n",
    "To identify patterns in patient behavior with respect to exercises and find the driving factors for their exercise completion rates, answered the following questions using SQL."
   ]
  },
  {
   "cell_type": "markdown",
   "metadata": {},
   "source": [
    "#### 1.How many users completed an exercise in their first month per monthly cohort?\n",
    "\n",
    "Assume you have two tables in our company’s database:\n",
    "- 'users' table, with columns 'user_id', 'created_at'\n",
    "- ‘exercises’ table, with columns 'exercise_id', 'user_id', 'exercise_completion_date'\n",
    "\n",
    "Write a single SQL query that breaks up the users based on the month that they signed up (their\n",
    "cohort month), and determines the percentage of users that have a completed exercise in their\n",
    "first month for each monthly cohort (e.g., the 2018 January cohort has x% of users completing an exercise in their \n",
    "first month, 2018 February cohort has x% of users completing an exercise in their first month, etc.)."
   ]
  },
  {
   "cell_type": "code",
   "execution_count": null,
   "metadata": {},
   "outputs": [],
   "source": [
    "#### Solution Q1:\n",
    "\n",
    "SELECT YEAR(created_at) AS user_created_year, MONTH(created_at) AS user_created_month, \n",
    "(COUNT(users.user_id)*100/(SELECT COUNT(user_id) FROM users)) AS complition_first_month FROM users \n",
    "INNER JOIN exercises ON users.user_id=exercises.user_id AND YEAR(users.created_at)=YEAR(exercises.exercise_completion_date) \n",
    "AND MONTH(users.created_at)= MONTH(exercises.exercise_completion_date) \n",
    "GROUP BY YEAR(users.created_at), MONTH(users.created_at)\n",
    "ORDER BY YEAR(users.created_at), MONTH(users.created_at);"
   ]
  },
  {
   "cell_type": "markdown",
   "metadata": {},
   "source": [
    "#### 2. How many users completed a given amount of exercises?\n",
    "\n",
    "Assume you have two tables in our company’s database:\n",
    "- 'users' table, with columns 'user_id', 'created_at'\n",
    "- ‘exercises’ table, with columns 'exercise_id', 'user_id', 'exercise_completion_date'\n",
    "\n",
    "Write a single SQL query that returns a frequency distribution of the number of activities each\n",
    "user completed. (Ex: 1000 users completed 1 activity, 500 completed 10 activities, 100\n",
    "completed 100 activities, etc…)"
   ]
  },
  {
   "cell_type": "code",
   "execution_count": null,
   "metadata": {},
   "outputs": [],
   "source": [
    "#### Solution Q2:\n",
    "\n",
    "SELECT user_id, COUNT(exercise_id) AS frequency_exercises FROM exercises\n",
    "GROUP BY user_id\n",
    "ORDER BY COUNT(exercise_id) DESC;"
   ]
  },
  {
   "cell_type": "markdown",
   "metadata": {},
   "source": [
    "#### 3. Which organizations have the most severe patient population?\n",
    "\n",
    "Assume you have two tables in our company’s database:\n",
    "- ‘Providers’ table that contains ‘provider_id’, ‘organization_id’, and ‘organization_name’\n",
    "- ‘Phq9’ table that contains ‘patient_id’,’provider_id’, ‘score’,’datetime_created’\n",
    "\n",
    "For context, A phq9 score ranges from 0-27 and anything 20 or above is considered severe.\n",
    "Write a single query that finds the top five organizations that have the highest average phq9\n",
    "score per patient."
   ]
  },
  {
   "cell_type": "code",
   "execution_count": null,
   "metadata": {},
   "outputs": [],
   "source": [
    "#### Solution Q3:\n",
    "\n",
    "SELECT organization_name FROM Providers\n",
    "INNER JOIN Phq9 ON Providers.provider_id = Phq9.provider_id\n",
    "GROUP BY organization_id\n",
    "ORDER BY AVG(score) DESC\n",
    "LIMIT 5;"
   ]
  }
 ],
 "metadata": {
  "kernelspec": {
   "display_name": "Python 3",
   "language": "python",
   "name": "python3"
  },
  "language_info": {
   "codemirror_mode": {
    "name": "ipython",
    "version": 3
   },
   "file_extension": ".py",
   "mimetype": "text/x-python",
   "name": "python",
   "nbconvert_exporter": "python",
   "pygments_lexer": "ipython3",
   "version": "3.8.3"
  }
 },
 "nbformat": 4,
 "nbformat_minor": 4
}
